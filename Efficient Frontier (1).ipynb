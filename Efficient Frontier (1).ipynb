{
 "cells": [
  {
   "cell_type": "code",
   "execution_count": 6,
   "id": "508e2c02",
   "metadata": {},
   "outputs": [
    {
     "name": "stdout",
     "output_type": "stream",
     "text": [
      "          SPY       SHY       TLT\n",
      "0    -1.3000%  -0.0700%  -0.4800%\n",
      "1     0.5700%   0.0500%   1.3700%\n",
      "2     0.1800%  -0.0200%  -2.8900%\n",
      "3     5.8600%   0.0600%  -2.7800%\n",
      "4     1.2800%   0.0400%   1.0100%\n",
      "..        ...       ...       ...\n",
      "114  -8.4900%  -0.5100%  -9.4400%\n",
      "115   0.2300%   0.5900%  -2.2700%\n",
      "116  -8.6400%  -0.6200%  -1.2800%\n",
      "117   9.6800%   0.3900%   2.4100%\n",
      "118   0.3300%  -0.6600%  -3.8700%\n",
      "\n",
      "[119 rows x 3 columns]\n"
     ]
    }
   ],
   "source": [
    "#import packages\n",
    "import pandas as pd\n",
    "import math\n",
    "import statistics\n",
    "\n",
    "#import and print data\n",
    "df=pd.read_csv(r\"C:\\Users\\jeffg\\OneDrive\\Documents\\QuantAnalysis\\Portfolio08_25.csv\")\n",
    "print(df)\n",
    "\n",
    "#create dataframe for each asset while converting data to float\n",
    "spyRet = df['SPY'].str.rstrip('%').astype('float') / 100.0\n",
    "shyRet = df['SHY'].str.rstrip('%').astype('float') / 100.0\n",
    "tltRet = df['TLT'].str.rstrip('%').astype('float') / 100.0\n",
    "\n"
   ]
  },
  {
   "cell_type": "code",
   "execution_count": 4,
   "id": "f22ab58a",
   "metadata": {},
   "outputs": [
    {
     "name": "stdout",
     "output_type": "stream",
     "text": [
      "          Weights  Return      Risk\n",
      "0     [0, 0, 100]  0.0017  0.035588\n",
      "1      [0, 1, 99]  0.0017  0.035255\n",
      "2      [0, 2, 98]  0.0017  0.034921\n",
      "3      [0, 3, 97]  0.0017  0.034588\n",
      "4      [0, 4, 96]  0.0017  0.034254\n",
      "...           ...     ...       ...\n",
      "5146   [98, 1, 1]  0.0111  0.040347\n",
      "5147   [98, 2, 0]  0.0111  0.040383\n",
      "5148   [99, 0, 1]  0.0113  0.040764\n",
      "5149   [99, 1, 0]  0.0112  0.040799\n",
      "5150  [100, 0, 0]  0.0114  0.041216\n",
      "\n",
      "[5151 rows x 3 columns]\n"
     ]
    }
   ],
   "source": [
    "#define sum of portfolio weights\n",
    "sumWeight = 100\n",
    "\n",
    "#iterate weight combinations and store in arrays\n",
    "weightArray = []\n",
    "retArray = []\n",
    "riskArray = []\n",
    "\n",
    "for spyWeight in range (0,sumWeight+1):\n",
    "    for shyWeight in range (0, (sumWeight+1)-spyWeight):\n",
    "        tltWeight = sumWeight-spyWeight-shyWeight\n",
    "        weights = [spyWeight,shyWeight,tltWeight]\n",
    "        \n",
    "        #calculate portfolio returns\n",
    "        portRet= spyWeight*spyRet/sumWeight + shyWeight*shyRet/sumWeight + tltWeight*tltRet/sumWeight\n",
    "        \n",
    "        #calculate average portfolio returns and risk (standard deviation)\n",
    "        retAvg = round(portRet.mean(),4)\n",
    "        risk = portRet.std()\n",
    "        \n",
    "        #Add iteration to the arrays\n",
    "        weightArray.append(weights)\n",
    "        retArray.append(retAvg)\n",
    "        riskArray.append(risk)\n",
    "        \n",
    "#Convert arrays to data frame\n",
    "portArray = list(zip(weightArray,retArray,riskArray))\n",
    "portFrame = pd.DataFrame(portArray, columns = ['Weights','Return','Risk'])\n",
    "print(portFrame)\n",
    "\n"
   ]
  },
  {
   "cell_type": "code",
   "execution_count": 7,
   "id": "9a5f96e0",
   "metadata": {},
   "outputs": [
    {
     "name": "stdout",
     "output_type": "stream",
     "text": [
      "          Weights  Return      Risk\n",
      "100   [0, 100, 0]  0.0005  0.003357\n",
      "590    [5, 95, 0]  0.0010  0.003566\n",
      "964    [9, 91, 0]  0.0015  0.004490\n",
      "1409  [14, 86, 0]  0.0020  0.006109\n",
      "1747  [18, 82, 0]  0.0025  0.007572\n",
      "2064  [22, 73, 5]  0.0030  0.009364\n",
      "2447  [27, 71, 2]  0.0035  0.011117\n",
      "2728  [31, 62, 7]  0.0040  0.012900\n",
      "3066  [36, 60, 4]  0.0045  0.014745\n",
      "3311  [40, 51, 9]  0.0050  0.016513\n"
     ]
    }
   ],
   "source": [
    "#create data frame for efficient frontier\n",
    "effFront = pd.DataFrame()\n",
    "\n",
    "#determine which weights have the lowest risk for expected returns from 0.05% to 0.5% (intervals of 0.05%)\n",
    "retExp = 0.0005\n",
    "\n",
    "while not retExp > 0.005:\n",
    "    #extract weights with same return as the expected return\n",
    "    sameRet = portFrame[(portFrame.Return == retExp)]\n",
    "    #extract minimum risk for that rate\n",
    "    minRisk = sameRet[(sameRet.Risk == sameRet['Risk'].min())]\n",
    "    \n",
    "    #add that data point to the efficient Frontier\n",
    "    effFront = pd.concat([effFront,minRisk])\n",
    "    \n",
    "    #add 0.05% interval to expected return\n",
    "    retExp = round(retExp + 0.0005,4)\n",
    "\n",
    "#print Efficient Frontier\n",
    "print(effFront)"
   ]
  },
  {
   "cell_type": "code",
   "execution_count": null,
   "id": "49b14781",
   "metadata": {},
   "outputs": [],
   "source": []
  }
 ],
 "metadata": {
  "kernelspec": {
   "display_name": "Python 3 (ipykernel)",
   "language": "python",
   "name": "python3"
  },
  "language_info": {
   "codemirror_mode": {
    "name": "ipython",
    "version": 3
   },
   "file_extension": ".py",
   "mimetype": "text/x-python",
   "name": "python",
   "nbconvert_exporter": "python",
   "pygments_lexer": "ipython3",
   "version": "3.9.12"
  }
 },
 "nbformat": 4,
 "nbformat_minor": 5
}
