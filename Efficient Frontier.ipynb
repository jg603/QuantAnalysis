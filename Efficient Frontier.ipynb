{
 "cells": [
  {
   "cell_type": "code",
   "execution_count": 31,
   "id": "508e2c02",
   "metadata": {},
   "outputs": [
    {
     "name": "stdout",
     "output_type": "stream",
     "text": [
      "       SPY    SHY    TLT\n",
      "0   -0.013 -0.001 -0.005\n",
      "1    0.006  0.001  0.014\n",
      "2    0.002  0.000 -0.029\n",
      "3    0.059  0.001 -0.028\n",
      "4    0.013  0.000  0.010\n",
      "..     ...    ...    ...\n",
      "114 -0.085 -0.005 -0.094\n",
      "115  0.002  0.006 -0.023\n",
      "116 -0.086 -0.006 -0.013\n",
      "117  0.097  0.004  0.024\n",
      "118  0.003 -0.007 -0.039\n",
      "\n",
      "[119 rows x 3 columns]\n"
     ]
    }
   ],
   "source": [
    "#import packages\n",
    "import pandas as pd\n",
    "import math\n",
    "import statistics\n",
    "\n",
    "#import and print data\n",
    "df=pd.read_csv(r\"C:\\Users\\jeffg\\OneDrive\\Bama\\FI 515\\Portfolio08_25.csv\")\n",
    "print(df)\n",
    "\n",
    "#create dataframe for each asset while converting data to float\n",
    "spyRet = df['SPY'].astype('float')\n",
    "shyRet = df['SHY'].astype('float')\n",
    "tltRet = df['TLT'].astype('float')\n",
    "\n"
   ]
  },
  {
   "cell_type": "code",
   "execution_count": 32,
   "id": "f22ab58a",
   "metadata": {},
   "outputs": [
    {
     "name": "stdout",
     "output_type": "stream",
     "text": [
      "          Weights  Return      Risk\n",
      "0     [0, 0, 100]  0.0018  0.035642\n",
      "1      [0, 1, 99]  0.0018  0.035308\n",
      "2      [0, 2, 98]  0.0018  0.034974\n",
      "3      [0, 3, 97]  0.0017  0.034641\n",
      "4      [0, 4, 96]  0.0017  0.034307\n",
      "...           ...     ...       ...\n",
      "5146   [98, 1, 1]  0.0112  0.040369\n",
      "5147   [98, 2, 0]  0.0112  0.040405\n",
      "5148   [99, 0, 1]  0.0113  0.040786\n",
      "5149   [99, 1, 0]  0.0113  0.040821\n",
      "5150  [100, 0, 0]  0.0114  0.041238\n",
      "\n",
      "[5151 rows x 3 columns]\n"
     ]
    }
   ],
   "source": [
    "#define sum of portfolio weights\n",
    "sumWeight = 100\n",
    "\n",
    "#iterate weight combinations and store in arrays\n",
    "weightArray = []\n",
    "retArray = []\n",
    "riskArray = []\n",
    "\n",
    "for spyWeight in range (0,sumWeight+1):\n",
    "    for shyWeight in range (0, (sumWeight+1)-spyWeight):\n",
    "        tltWeight = sumWeight-spyWeight-shyWeight\n",
    "        weights = [spyWeight,shyWeight,tltWeight]\n",
    "        \n",
    "        #calculate portfolio returns\n",
    "        portRet= spyWeight*spyRet/sumWeight + shyWeight*shyRet/sumWeight + tltWeight*tltRet/sumWeight\n",
    "        \n",
    "        #calculate average portfolio returns and risk (standard deviation)\n",
    "        retAvg = round(portRet.mean(),4)\n",
    "        risk = portRet.std()\n",
    "        \n",
    "        #Add iteration to the arrays\n",
    "        weightArray.append(weights)\n",
    "        retArray.append(retAvg)\n",
    "        riskArray.append(risk)\n",
    "        \n",
    "#Convert arrays to data frame\n",
    "portArray = list(zip(weightArray,retArray,riskArray))\n",
    "portFrame = pd.DataFrame(portArray, columns = ['Weights','Return','Risk'])\n",
    "print(portFrame)\n",
    "\n"
   ]
  },
  {
   "cell_type": "code",
   "execution_count": 33,
   "id": "9a5f96e0",
   "metadata": {},
   "outputs": [
    {
     "name": "stdout",
     "output_type": "stream",
     "text": [
      "           Weights  Return      Risk\n",
      "100    [0, 100, 0]  0.0005  0.003405\n",
      "493     [4, 95, 1]  0.0010  0.003654\n",
      "964     [9, 91, 0]  0.0015  0.004523\n",
      "1320   [13, 85, 2]  0.0020  0.005962\n",
      "1747   [18, 82, 0]  0.0025  0.007592\n",
      "2065   [22, 74, 4]  0.0030  0.009310\n",
      "2449   [27, 73, 0]  0.0035  0.011097\n",
      "2730   [31, 64, 5]  0.0040  0.012813\n",
      "2995  [35, 55, 10]  0.0045  0.014650\n",
      "3313   [40, 53, 7]  0.0050  0.016446\n"
     ]
    }
   ],
   "source": [
    "#create data frame for efficient frontier\n",
    "effFront = pd.DataFrame()\n",
    "\n",
    "#determine which weights have the lowest risk for expected returns from 0.05% to 0.5% (intervals of 0.05%)\n",
    "retExp = 0.0005\n",
    "\n",
    "while not retExp > 0.005:\n",
    "    #extract weights with same return as the expected return\n",
    "    sameRet = portFrame[(portFrame.Return == retExp)]\n",
    "    #extract minimum risk for that rate\n",
    "    minRisk = sameRet[(sameRet.Risk == sameRet['Risk'].min())]\n",
    "    \n",
    "    #add that data point to the efficient Frontier\n",
    "    effFront = pd.concat([effFront,minRisk])\n",
    "    \n",
    "    #add 0.05% interval to expected return\n",
    "    retExp = round(retExp + 0.0005,4)\n",
    "\n",
    "#print Efficient Frontier\n",
    "print(effFront)"
   ]
  },
  {
   "cell_type": "code",
   "execution_count": null,
   "id": "49b14781",
   "metadata": {},
   "outputs": [],
   "source": []
  }
 ],
 "metadata": {
  "kernelspec": {
   "display_name": "Python 3 (ipykernel)",
   "language": "python",
   "name": "python3"
  },
  "language_info": {
   "codemirror_mode": {
    "name": "ipython",
    "version": 3
   },
   "file_extension": ".py",
   "mimetype": "text/x-python",
   "name": "python",
   "nbconvert_exporter": "python",
   "pygments_lexer": "ipython3",
   "version": "3.9.12"
  }
 },
 "nbformat": 4,
 "nbformat_minor": 5
}
